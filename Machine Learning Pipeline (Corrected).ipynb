{
 "cells": [
  {
   "cell_type": "code",
   "execution_count": 83,
   "id": "bc335e86-64e9-414a-81a2-ca1d2080f53a",
   "metadata": {},
   "outputs": [],
   "source": [
    "import matplotlib.pyplot as plt\n",
    "from sklearn.svm import SVC\n",
    "import numpy as np\n",
    "from sklearn.model_selection import train_test_split, GridSearchCV\n",
    "from sklearn.datasets import fetch_openml\n",
    "from sklearn.metrics import accuracy_score\n",
    "import time"
   ]
  },
  {
   "cell_type": "code",
   "execution_count": 84,
   "id": "903467ed-b6af-4eb8-b430-37d51530555e",
   "metadata": {},
   "outputs": [
    {
     "name": "stdout",
     "output_type": "stream",
     "text": [
      "X dtype: float64, y dtype: int32\n",
      "Unique labels in y: [0 1 2 3 4 5 6 7 8 9]\n"
     ]
    }
   ],
   "source": [
    "# Record start time\n",
    "start_time = time.time()\n",
    "\n",
    "# Fetch MNIST dataset\n",
    "mnist = fetch_openml('mnist_784', version=1, as_frame=False)\n",
    "\n",
    "# Use 5000 samples and normalize pixel values\n",
    "X = mnist.data[:5000].astype(float) / 255.0 #MUST NORMALIZE\n",
    "y = mnist.target[:5000].astype(int)\n",
    "\n",
    "print(f\"X dtype: {X.dtype}, y dtype: {y.dtype}\")\n",
    "print(f\"Unique labels in y: {np.unique(y)}\")"
   ]
  },
  {
   "cell_type": "code",
   "execution_count": 85,
   "id": "9108f862-889f-4614-a136-787fbcc06267",
   "metadata": {},
   "outputs": [
    {
     "data": {
      "image/png": "[encoded data removed]",
      "text/plain": [
       "<Figure size 1000x300 with 4 Axes>"
      ]
     },
     "metadata": {},
     "output_type": "display_data"
    }
   ],
   "source": [
    "# Plot sample images\n",
    "_, axes = plt.subplots(nrows=1, ncols=4, figsize=(10, 3))\n",
    "for ax, image, label in zip(axes, X[:4], y[:4]):\n",
    "    ax.set_axis_off()\n",
    "    ax.imshow(image.reshape(28, 28), cmap=plt.cm.gray_r, interpolation=\"nearest\")\n",
    "    ax.set_title(f\"Training: {label}\")\n",
    "plt.show()"
   ]
  },
  {
   "cell_type": "code",
   "execution_count": 86,
   "id": "a2b07673-c571-47e4-8fd5-377c9a603d79",
   "metadata": {},
   "outputs": [],
   "source": [
    "X_train, X_test, y_train, y_test = train_test_split(X, y, test_size=0.5, shuffle=True, random_state=42)\n",
    "\n",
    "clf = SVC(gamma=0.001)\n",
    "clf.fit(X_train, y_train)\n",
    "predicted = clf.predict(X_test)"
   ]
  },
  {
   "cell_type": "code",
   "execution_count": 87,
   "id": "2c98dc5e-c2a9-497b-915a-769a8d4dfcca",
   "metadata": {},
   "outputs": [
    {
     "data": {
      "image/png": "[encoded data removed]",
      "text/plain": [
       "<Figure size 1000x300 with 4 Axes>"
      ]
     },
     "metadata": {},
     "output_type": "display_data"
    }
   ],
   "source": [
    "_, axes = plt.subplots(nrows=1, ncols=4, figsize=(10, 3))\n",
    "for ax, image, prediction in zip(axes, X_test[:4], predicted[:4]):\n",
    "    ax.set_axis_off()\n",
    "    image = image.reshape(28, 28)\n",
    "    ax.imshow(image, cmap=plt.cm.gray_r, interpolation=\"nearest\")\n",
    "    ax.set_title(f\"Prediction: {prediction}\")\n",
    "plt.show()"
   ]
  },
  {
   "cell_type": "code",
   "execution_count": null,
   "id": "2fbf8dfa-8c4f-4b0e-a8fa-4f755395b0a5",
   "metadata": {},
   "outputs": [],
   "source": [
    "svm_new = SVC()\n",
    "param_grid = { # try to find a trend for the parameters, small dataset is still fine\n",
    "    'C': np.linspace(0.01,0.5,10), \n",
    "    'kernel': ['rbf'], \n",
    "    'gamma': np.linspace(0.05, 1, 10)\n",
    "}\n",
    "\n",
    "grid_search = GridSearchCV(svm_new, param_grid, cv=3, return_train_score=True)\n",
    "grid_search.fit(X_train, y_train)\n",
    "\n",
    "print(\"Best parameters:\", grid_search.best_params_)\n",
    "accuracy = accuracy_score(y_test, predicted)\n",
    "print(accuracy)\n",
    "\n",
    "# Calculate elapsed time\n",
    "elapsed_time = time.time() - start_time\n",
    "print(f\"Script executed in {elapsed_time:.4f} seconds\")"
   ]
  },
  {
   "cell_type": "code",
   "execution_count": null,
   "id": "9ff10f6f-ee31-4a6b-a320-bdd9aa32853f",
   "metadata": {},
   "outputs": [],
   "source": [
    "results = grid_search.cv_results_\n",
    "C_values = param_grid['C']\n",
    "gamma_values = param_grid['gamma']\n",
    "mean_train_scores = results['mean_train_score'].reshape(len(C_values), len(gamma_values))\n",
    "mean_test_scores = results['mean_test_score'].reshape(len(C_values), len(gamma_values))"
   ]
  },
  {
   "cell_type": "code",
   "execution_count": null,
   "id": "588c23dc-709a-4ade-8c17-f5d6e4a8ad2d",
   "metadata": {},
   "outputs": [],
   "source": [
    "fixed_C_index = 0\n",
    "fixed_C = C_values[fixed_C_index] #2 dimensional indexing\n",
    "\n",
    "train_errors = 1 - mean_train_scores[fixed_C_index, :] \n",
    "test_errors = 1 - mean_test_scores[fixed_C_index, :]\n",
    "\n",
    "plt.figure(figsize=(8, 5))\n",
    "plt.plot(gamma_values, train_errors, marker='o', label='Train Error')\n",
    "plt.plot(gamma_values, test_errors, marker='x', label='Test Error')\n",
    "plt.xlabel('Gamma (complexity)')\n",
    "plt.ylabel('Error')\n",
    "plt.title(f'Train vs Test Error, Fixed C')\n",
    "plt.legend()\n",
    "plt.grid(True)\n",
    "plt.show()"
   ]
  },
  {
   "cell_type": "code",
   "execution_count": null,
   "id": "6f7aa3b7-f074-4d89-87a9-909bb3c7e6e9",
   "metadata": {},
   "outputs": [],
   "source": [
    "fixed_gamma_index = 0\n",
    "fixed_gamma = gamma_values[fixed_gamma_index]\n",
    "\n",
    "train_errors = 1 - mean_train_scores[:, fixed_gamma_index]\n",
    "test_errors = 1 - mean_test_scores[:, fixed_gamma_index]\n",
    "\n",
    "plt.figure(figsize=(8, 5))\n",
    "plt.plot(C_values, train_errors, marker='o', label='Train Error')\n",
    "plt.plot(C_values, test_errors, marker='x', label='Test Error')\n",
    "plt.xlabel('C (complexity)')\n",
    "plt.ylabel('Error')\n",
    "plt.title(f'Train vs Test Error, Fixed Gamma')\n",
    "plt.legend()\n",
    "plt.grid(True)\n",
    "plt.show()"
   ]
  }
 ],
 "metadata": {
  "kernelspec": {
   "display_name": "Python [conda env:base] *",
   "language": "python",
   "name": "conda-base-py"
  },
  "language_info": {
   "codemirror_mode": {
    "name": "ipython",
    "version": 3
   },
   "file_extension": ".py",
   "mimetype": "text/x-python",
   "name": "python",
   "nbconvert_exporter": "python",
   "pygments_lexer": "ipython3",
   "version": "3.12.7"
  }
 },
 "nbformat": 4,
 "nbformat_minor": 5
}
